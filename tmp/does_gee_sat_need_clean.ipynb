{
 "cells": [
  {
   "cell_type": "code",
   "execution_count": 1,
   "metadata": {},
   "outputs": [],
   "source": [
    "import rasterio\n",
    "import os\n",
    "from glob import glob\n",
    "import random\n",
    "import numpy as np\n",
    "import plotly.express as px\n",
    "import plotly.graph_objs as go\n",
    "import matplotlib.pyplot as plt\n",
    "from tqdm import tqdm"
   ]
  },
  {
   "cell_type": "code",
   "execution_count": 2,
   "metadata": {},
   "outputs": [],
   "source": [
    "img_root_sat = \"../data/interim/gee_sat/sen2a_c3_256x_pch\"\n",
    "img_paths_sat = glob(os.path.join(img_root_sat, \"*\"))\n"
   ]
  },
  {
   "cell_type": "code",
   "execution_count": 3,
   "metadata": {},
   "outputs": [],
   "source": [
    "def find_minmax(img_paths):\n",
    "    smallest_min = np.inf; highest_max = -1 * np.inf\n",
    "\n",
    "    for i in tqdm(range(len(img_paths))):\n",
    "        with rasterio.open(img_paths[i]) as ds:\n",
    "            img = ds.read([1,2,3]) #(C,W,H)\n",
    "            \n",
    "        img = np.moveaxis(img, source = (0,1,2), destination = (2,0,1)) #(W,H,C)   \n",
    "        vmax = img.max() ; vmin = img.min()\n",
    "        if vmax > highest_max:\n",
    "            highest_max = vmax\n",
    "        if vmin < smallest_min:\n",
    "            smallest_min = vmin\n",
    "\n",
    "    return smallest_min, highest_max\n",
    "\n",
    "# smallest_min, highest_max = find_minmax(img_paths_sat)\n",
    "# print(f\"min : {smallest_min}, max : {highest_max}\")\n",
    "\n",
    "def find_minmax_dl(dl):\n",
    "    smallest_min = np.inf; highest_max = -1 * np.inf\n",
    "\n",
    "    for X in tqdm(dl):\n",
    "        vmax = X.max() ; vmin = X.min()\n",
    "        if vmax > highest_max:\n",
    "            highest_max = vmax\n",
    "        if vmin < smallest_min:\n",
    "            smallest_min = vmin\n",
    "\n",
    "    return smallest_min, highest_max       \n",
    "                "
   ]
  },
  {
   "cell_type": "code",
   "execution_count": 4,
   "metadata": {},
   "outputs": [],
   "source": [
    "import torch\n",
    "from torch.utils.data import Dataset, DataLoader\n",
    "from torchvision.transforms import ToTensor, Normalize, Compose\n",
    "from typing import List"
   ]
  },
  {
   "cell_type": "code",
   "execution_count": 5,
   "metadata": {},
   "outputs": [],
   "source": [
    "class SentinelDataset(Dataset):\n",
    "    \"\"\"Desc : Dataset class for satelite data downloaded from google eath engine\"\"\"\n",
    "    def __init__(self, paths:List[str], transform:Compose = None, sentinel_scaling_factor = None):\n",
    "        \"\"\"\n",
    "        Inputs \n",
    "             - paths : List of image paths\n",
    "             - transform : Any Pytorch transformations\n",
    "        NOTE : GEE states to divide dataset by 10,000 however values are difficult to be visualized, \n",
    "        so we will normalize the values btw 0 and 1\n",
    "        \"\"\"\n",
    "        self.paths = paths\n",
    "        self.transform = transform\n",
    "        self.sentinel_scaling_factor = sentinel_scaling_factor\n",
    "\n",
    "    def __len__(self):\n",
    "        \"\"\"Desc : Return dataset size\"\"\"\n",
    "        return len(self.paths)\n",
    "    \n",
    "    def __getitem__(self, idx:int):\n",
    "        \"\"\"\n",
    "        Desc : Return a single item Based on Index\n",
    "        Inputs \n",
    "            - idx : index\n",
    "        \"\"\"\n",
    "        with rasterio.open(self.paths[idx]) as ds:\n",
    "            img = ds.read([1,2,3]) #(C,W,H)\n",
    "            img = torch.tensor(img, dtype = torch.float32)\n",
    "            img = img / self.sentinel_scaling_factor\n",
    "            #! Converted to torch Tensors here. Note we will be not using ToTensor\n",
    "            #! function as it automatically normalizes values between 0-1, instead we \n",
    "            #! will find normalization means and stds\n",
    "\n",
    "        if self.transform:\n",
    "            img = self.transform(img)\n",
    "\n",
    "        return img, self.paths[idx]\n",
    "\n",
    " \n",
    " # This below is just a copy from utils\n",
    "class DATASET_MEAN_STD():\n",
    "    \"\"\"Gets the mean and standard deviation of a datastet\"\"\"\n",
    "    def __init__(self, DATASET, batch_size:int = 512):\n",
    "        super().__init__()\n",
    "        self.DATASET = DATASET\n",
    "        self.batch_size = batch_size\n",
    "\n",
    "    def get_sshsph_my_stats(self,image_paths:List[str]):\n",
    "        \"\"\"\n",
    "        Computes the mean and std for SSHSPH_MY dataset\n",
    "        \"\"\"\n",
    "        c_sum, c_sq_sum, total_pixels = 0,0,0\n",
    "\n",
    "        d = self.DATASET(image_paths)\n",
    "        dl = DataLoader(d, batch_size = self.batch_size)\n",
    "        for data,path in tqdm(dl): # note here we dont have traget else should be (data,labs)\n",
    "            b,c,w,h = data.shape\n",
    "            num_pixels = b * w * h\n",
    "            assert c == 3, f\"Num channels incorrect, got c = {c}\"\n",
    "            c_sum += torch.sum(data, dim = [0,2,3]) # Sum across channels, data.shape = (b,c,w,h)\n",
    "            c_sq_sum += torch.sum(data**2 , dim = [0,2,3])\n",
    "\n",
    "            total_pixels += num_pixels\n",
    "        \n",
    "        mean = c_sum / total_pixels\n",
    "        std = ((c_sq_sum/total_pixels) - (mean**2))**0.5\n",
    "\n",
    "        return mean,std\n"
   ]
  },
  {
   "cell_type": "code",
   "execution_count": 32,
   "metadata": {},
   "outputs": [
    {
     "name": "stderr",
     "output_type": "stream",
     "text": [
      "100%|██████████| 224/224 [14:12<00:00,  3.80s/it]\n"
     ]
    }
   ],
   "source": [
    "# mean_std_dataset = DATASET_MEAN_STD(SentinelDataset, batch_size=512)\n",
    "# mean,std = mean_std_dataset.get_sshsph_my_stats(img_paths_sat)"
   ]
  },
  {
   "cell_type": "code",
   "execution_count": 33,
   "metadata": {},
   "outputs": [
    {
     "data": {
      "text/plain": [
       "(tensor([0.0738, 0.0956, 0.1218]), tensor([0.1069, 0.0973, 0.0943]))"
      ]
     },
     "execution_count": 33,
     "metadata": {},
     "output_type": "execute_result"
    }
   ],
   "source": [
    "# mean, std"
   ]
  },
  {
   "cell_type": "code",
   "execution_count": 6,
   "metadata": {},
   "outputs": [],
   "source": [
    "mean = [0.0738, 0.0956, 0.1218] ; std = [0.1069, 0.0973, 0.0943]\n",
    "sentinel_dataset = SentinelDataset(img_paths_sat, Compose([Normalize(mean = mean, std = std)]))\n",
    "sentinel_loader = DataLoader(sentinel_dataset, batch_size=512)\n",
    "\n",
    "# smallest_min, highest_max = find_minmax_dl(sentinel_loader)\n",
    "# f\"smallest_min : {smallest_min}, highest_max : {highest_max}\""
   ]
  },
  {
   "cell_type": "code",
   "execution_count": 53,
   "metadata": {},
   "outputs": [
    {
     "name": "stdout",
     "output_type": "stream",
     "text": [
      "tensor(-0.7338) tensor(11.2591)\n",
      "tensor([[[[-3.7699e-01, -3.6950e-01, -3.7886e-01,  ..., -4.4528e-01,\n",
      "           -4.3031e-01, -4.3873e-01],\n",
      "          [-3.8073e-01, -3.8634e-01, -3.8915e-01,  ..., -4.3966e-01,\n",
      "           -4.3592e-01, -4.3779e-01],\n",
      "          [-3.9383e-01, -3.9383e-01, -3.9289e-01,  ..., -4.3592e-01,\n",
      "           -4.2937e-01, -4.3031e-01],\n",
      "          ...,\n",
      "          [-3.9008e-01, -3.8260e-01, -3.8915e-01,  ..., -4.1254e-01,\n",
      "           -4.2376e-01, -4.0973e-01],\n",
      "          [-3.8073e-01, -3.8073e-01, -4.0412e-01,  ..., -4.2189e-01,\n",
      "           -4.1815e-01, -4.1066e-01],\n",
      "          [-3.9757e-01, -3.9757e-01, -4.0037e-01,  ..., -4.3031e-01,\n",
      "           -4.2657e-01, -4.2563e-01]],\n",
      "\n",
      "         [[-4.3474e-01, -4.4193e-01, -4.4502e-01,  ..., -4.8613e-01,\n",
      "           -4.9332e-01, -5.0051e-01],\n",
      "          [-4.4707e-01, -4.5118e-01, -4.4296e-01,  ..., -4.8818e-01,\n",
      "           -4.8921e-01, -4.8818e-01],\n",
      "          [-4.4810e-01, -4.5632e-01, -4.5015e-01,  ..., -4.8818e-01,\n",
      "           -4.9435e-01, -4.9435e-01],\n",
      "          ...,\n",
      "          [-4.5324e-01, -4.4090e-01, -4.3885e-01,  ..., -4.6557e-01,\n",
      "           -4.7482e-01, -4.6146e-01],\n",
      "          [-4.3679e-01, -4.4090e-01, -4.5735e-01,  ..., -4.6043e-01,\n",
      "           -4.7688e-01, -4.7482e-01],\n",
      "          [-4.5324e-01, -4.3885e-01, -4.4810e-01,  ..., -4.6865e-01,\n",
      "           -4.8818e-01, -4.7790e-01]],\n",
      "\n",
      "         [[-3.2238e-01, -3.2344e-01, -3.1177e-01,  ..., -3.7646e-01,\n",
      "           -3.7964e-01, -3.8600e-01],\n",
      "          [-3.2662e-01, -3.4783e-01, -3.2768e-01,  ..., -3.8176e-01,\n",
      "           -3.8176e-01, -3.9024e-01],\n",
      "          [-3.3722e-01, -3.4252e-01, -3.3510e-01,  ..., -3.7964e-01,\n",
      "           -3.7434e-01, -3.9236e-01],\n",
      "          ...,\n",
      "          [-3.2768e-01, -3.3722e-01, -3.3298e-01,  ..., -3.5843e-01,\n",
      "           -3.8070e-01, -3.7646e-01],\n",
      "          [-3.1389e-01, -3.4040e-01, -3.3934e-01,  ..., -3.7010e-01,\n",
      "           -3.6904e-01, -3.7540e-01],\n",
      "          [-3.3404e-01, -3.1813e-01, -3.1283e-01,  ..., -3.7116e-01,\n",
      "           -3.5949e-01, -3.7116e-01]]],\n",
      "\n",
      "\n",
      "        [[[-2.6473e-01, -2.8625e-01, -2.7128e-01,  ..., -2.5912e-01,\n",
      "           -2.3106e-01, -2.5070e-01],\n",
      "          [-2.6754e-01, -2.7689e-01, -2.4135e-01,  ..., -2.7315e-01,\n",
      "           -2.3199e-01, -2.5351e-01],\n",
      "          [-2.5444e-01, -2.7315e-01, -2.2264e-01,  ..., -2.3573e-01,\n",
      "           -2.2638e-01, -2.6754e-01],\n",
      "          ...,\n",
      "          [-2.5070e-01, -2.2544e-01, -2.8344e-01,  ..., -2.1703e-01,\n",
      "           -2.2825e-01, -2.8157e-01],\n",
      "          [-2.7783e-01, -2.6286e-01, -2.5631e-01,  ..., -2.5538e-01,\n",
      "           -2.3106e-01, -2.7035e-01],\n",
      "          [-2.6848e-01, -2.5351e-01, -2.3106e-01,  ..., -2.5444e-01,\n",
      "           -2.2638e-01, -2.6099e-01]],\n",
      "\n",
      "         [[-3.0113e-01, -2.9805e-01, -2.9291e-01,  ..., -2.5077e-01,\n",
      "           -2.6208e-01, -3.0216e-01],\n",
      "          [-2.9805e-01, -2.9188e-01, -2.5077e-01,  ..., -2.8983e-01,\n",
      "           -2.5077e-01, -2.8880e-01],\n",
      "          [-2.8366e-01, -2.8777e-01, -2.4872e-01,  ..., -2.6619e-01,\n",
      "           -2.4049e-01, -2.9496e-01],\n",
      "          ...,\n",
      "          [-2.6208e-01, -2.7544e-01, -3.0627e-01,  ..., -2.4358e-01,\n",
      "           -2.7852e-01, -2.8983e-01],\n",
      "          [-3.0524e-01, -2.7030e-01, -2.8160e-01,  ..., -2.6310e-01,\n",
      "           -2.7338e-01, -2.7749e-01],\n",
      "          [-2.9291e-01, -2.3741e-01, -2.9394e-01,  ..., -2.7235e-01,\n",
      "           -2.6927e-01, -2.8263e-01]],\n",
      "\n",
      "         [[-2.4920e-01, -2.2057e-01, -2.1103e-01,  ..., -1.9406e-01,\n",
      "           -1.9300e-01, -2.2481e-01],\n",
      "          [-2.3648e-01, -2.2375e-01, -1.8452e-01,  ..., -1.8558e-01,\n",
      "           -1.8982e-01, -2.2481e-01],\n",
      "          [-2.3648e-01, -2.0255e-01, -2.0042e-01,  ..., -1.6331e-01,\n",
      "           -1.9406e-01, -2.2906e-01],\n",
      "          ...,\n",
      "          [-1.9300e-01, -2.0361e-01, -2.3330e-01,  ..., -1.8770e-01,\n",
      "           -2.3118e-01, -2.3012e-01],\n",
      "          [-1.9724e-01, -2.1315e-01, -2.2269e-01,  ..., -1.8346e-01,\n",
      "           -1.8982e-01, -1.9300e-01],\n",
      "          [-1.8134e-01, -1.8028e-01, -2.0997e-01,  ..., -1.8346e-01,\n",
      "           -2.0361e-01, -2.1103e-01]]],\n",
      "\n",
      "\n",
      "        [[[-3.6950e-01, -3.5173e-01, -3.5267e-01,  ..., -4.0786e-01,\n",
      "           -4.0692e-01, -4.1347e-01],\n",
      "          [-3.7699e-01, -3.6670e-01, -3.6202e-01,  ..., -3.9476e-01,\n",
      "           -4.1254e-01, -4.1628e-01],\n",
      "          [-3.8167e-01, -3.8354e-01, -3.6950e-01,  ..., -3.9383e-01,\n",
      "           -4.1066e-01, -4.0692e-01],\n",
      "          ...,\n",
      "          [-4.0131e-01, -3.8073e-01, -3.7979e-01,  ..., -4.0037e-01,\n",
      "           -3.9476e-01, -3.7605e-01],\n",
      "          [-3.9570e-01, -4.0786e-01, -4.0973e-01,  ..., -3.9944e-01,\n",
      "           -3.9289e-01, -3.8728e-01],\n",
      "          [-3.8447e-01, -3.9102e-01, -4.0037e-01,  ..., -3.8541e-01,\n",
      "           -3.9476e-01, -3.8634e-01]],\n",
      "\n",
      "         [[-4.2446e-01, -4.0802e-01, -4.2960e-01,  ..., -4.6968e-01,\n",
      "           -4.5632e-01, -4.6249e-01],\n",
      "          [-4.1829e-01, -3.9054e-01, -4.2446e-01,  ..., -4.6351e-01,\n",
      "           -4.7585e-01, -4.7379e-01],\n",
      "          [-4.3679e-01, -4.3165e-01, -4.3885e-01,  ..., -4.5324e-01,\n",
      "           -4.6557e-01, -4.6043e-01],\n",
      "          ...,\n",
      "          [-4.5632e-01, -4.3474e-01, -4.2960e-01,  ..., -4.5735e-01,\n",
      "           -4.4913e-01, -4.4913e-01],\n",
      "          [-4.6660e-01, -4.6043e-01, -4.6763e-01,  ..., -4.6146e-01,\n",
      "           -4.5632e-01, -4.4604e-01],\n",
      "          [-4.6146e-01, -4.5632e-01, -4.6146e-01,  ..., -4.4399e-01,\n",
      "           -4.3885e-01, -4.4090e-01]],\n",
      "\n",
      "         [[-3.4358e-01, -2.9480e-01, -3.2450e-01,  ..., -3.7222e-01,\n",
      "           -3.6055e-01, -3.5631e-01],\n",
      "          [-3.0647e-01, -3.0435e-01, -3.2238e-01,  ..., -3.5949e-01,\n",
      "           -3.6691e-01, -3.8918e-01],\n",
      "          [-3.3086e-01, -3.3828e-01, -3.2980e-01,  ..., -3.5313e-01,\n",
      "           -3.6161e-01, -3.6055e-01],\n",
      "          ...,\n",
      "          [-3.3722e-01, -3.2450e-01, -3.2344e-01,  ..., -3.5313e-01,\n",
      "           -3.3404e-01, -3.4995e-01],\n",
      "          [-3.4146e-01, -3.4146e-01, -3.4995e-01,  ..., -3.4040e-01,\n",
      "           -3.3086e-01, -3.4252e-01],\n",
      "          [-3.5419e-01, -3.5843e-01, -3.6797e-01,  ..., -3.3722e-01,\n",
      "           -3.3828e-01, -3.4146e-01]]],\n",
      "\n",
      "\n",
      "        ...,\n",
      "\n",
      "\n",
      "        [[[-2.9654e-01, -2.9280e-01, -3.0496e-01,  ..., -1.1038e-01,\n",
      "           -1.3190e-01, -9.1674e-02],\n",
      "          [-2.9467e-01, -2.9186e-01, -2.8906e-01,  ..., -1.2161e-01,\n",
      "           -1.4312e-01, -1.1413e-01],\n",
      "          [-3.1899e-01, -3.0683e-01, -2.9093e-01,  ..., -1.3377e-01,\n",
      "           -1.3003e-01, -1.1600e-01],\n",
      "          ...,\n",
      "          [ 2.4986e+00,  2.4752e+00,  2.6015e+00,  ..., -9.3545e-02,\n",
      "           -2.4696e-01, -2.0767e-01],\n",
      "          [ 2.7081e+00,  2.6950e+00,  2.7390e+00,  ..., -1.1319e-01,\n",
      "           -1.7774e-01, -1.7399e-01],\n",
      "          [ 2.7820e+00,  2.8326e+00,  2.8887e+00,  ..., -1.6370e-01,\n",
      "           -1.3845e-01, -1.3096e-01]],\n",
      "\n",
      "         [[-1.6958e-01, -1.2950e-01, -1.7883e-01,  ..., -2.7749e-02,\n",
      "           -3.9055e-02, -3.8027e-02],\n",
      "          [-1.9219e-01, -1.5108e-01, -1.4902e-01,  ..., -1.1305e-02,\n",
      "           -4.6249e-02, -6.8859e-02],\n",
      "          [-1.6752e-01, -1.4286e-01, -1.5930e-01,  ..., -4.1110e-02,\n",
      "           -4.2138e-02, -5.4471e-02],\n",
      "          ...,\n",
      "          [ 2.4060e+00,  2.3834e+00,  2.4985e+00,  ..., -1.3361e-02,\n",
      "           -1.2436e-01, -1.1614e-01],\n",
      "          [ 2.5272e+00,  2.4830e+00,  2.6125e+00,  ...,  6.9887e-02,\n",
      "           -4.9332e-02, -4.7277e-02],\n",
      "          [ 2.7081e+00,  2.7184e+00,  2.7420e+00,  ...,  3.1860e-02,\n",
      "           -2.6721e-02,  2.9805e-02]],\n",
      "\n",
      "         [[-4.0403e-01, -3.9555e-01, -4.0827e-01,  ..., -3.0223e-01,\n",
      "           -3.2238e-01, -3.1495e-01],\n",
      "          [-4.0191e-01, -4.0297e-01, -3.9873e-01,  ..., -3.2131e-01,\n",
      "           -3.3828e-01, -3.2450e-01],\n",
      "          [-4.0933e-01, -4.0509e-01, -3.9236e-01,  ..., -3.2556e-01,\n",
      "           -3.3404e-01, -3.0859e-01],\n",
      "          ...,\n",
      "          [ 2.2694e+00,  2.3224e+00,  2.3245e+00,  ..., -2.9799e-01,\n",
      "           -3.7752e-01, -3.4464e-01],\n",
      "          [ 2.3224e+00,  2.2556e+00,  2.4411e+00,  ..., -1.6331e-01,\n",
      "           -3.0011e-01, -3.1283e-01],\n",
      "          [ 2.5217e+00,  2.4645e+00,  2.5557e+00,  ..., -1.8346e-01,\n",
      "           -2.6193e-01, -2.6935e-01]]],\n",
      "\n",
      "\n",
      "        [[[-7.6707e-02, -3.1805e-02, -1.8709e-03,  ..., -2.8344e-01,\n",
      "           -2.9654e-01, -3.3676e-01],\n",
      "          [-1.5716e-01, -7.7643e-02, -4.0224e-02,  ..., -3.5454e-01,\n",
      "           -3.2367e-01, -3.3957e-01],\n",
      "          [-2.2638e-01, -1.6838e-01, -9.4481e-02,  ..., -3.8541e-01,\n",
      "           -3.5267e-01, -3.4986e-01],\n",
      "          ...,\n",
      "          [ 1.7802e+00,  1.6324e+00,  1.8756e+00,  ..., -3.6763e-01,\n",
      "           -3.7044e-01, -3.4051e-01],\n",
      "          [ 1.8466e+00,  1.6642e+00,  1.6043e+00,  ..., -3.7886e-01,\n",
      "           -3.6296e-01, -3.4705e-01],\n",
      "          [ 1.8625e+00,  1.8372e+00,  1.5500e+00,  ..., -4.0412e-01,\n",
      "           -3.6109e-01, -3.4518e-01]],\n",
      "\n",
      "         [[-1.6444e-02, -5.1388e-03,  1.9527e-02,  ..., -1.8911e-01,\n",
      "           -1.3669e-01, -1.8294e-01],\n",
      "          [-1.0175e-01, -3.8027e-02, -9.2497e-03,  ..., -3.0113e-01,\n",
      "           -1.9013e-01, -2.0555e-01],\n",
      "          [-1.8602e-01, -1.0997e-01, -5.0360e-02,  ..., -3.3607e-01,\n",
      "           -2.6310e-01, -2.5694e-01],\n",
      "          ...,\n",
      "          [ 1.7369e+00,  1.9054e+00,  2.2734e+00,  ..., -2.5488e-01,\n",
      "           -2.5899e-01, -2.4049e-01],\n",
      "          [ 1.7328e+00,  1.6413e+00,  1.8314e+00,  ..., -3.0010e-01,\n",
      "           -2.4974e-01, -2.2816e-01],\n",
      "          [ 1.8715e+00,  1.7318e+00,  1.6382e+00,  ..., -3.4532e-01,\n",
      "           -2.7235e-01, -1.8911e-01]],\n",
      "\n",
      "         [[-2.7572e-02, -2.1209e-02, -2.7572e-02,  ..., -4.0191e-01,\n",
      "           -4.1145e-01, -4.2524e-01],\n",
      "          [-9.9682e-02, -5.4083e-02, -4.5599e-02,  ..., -4.1782e-01,\n",
      "           -4.0933e-01, -4.1569e-01],\n",
      "          [-1.7815e-01, -1.2089e-01, -7.8473e-02,  ..., -4.7508e-01,\n",
      "           -4.5281e-01, -4.4751e-01],\n",
      "          ...,\n",
      "          [ 1.8685e+00,  2.2874e+00,  2.6172e+00,  ..., -4.6660e-01,\n",
      "           -4.4963e-01, -4.4433e-01],\n",
      "          [ 1.7614e+00,  1.9088e+00,  2.2577e+00,  ..., -4.8144e-01,\n",
      "           -4.5281e-01, -4.5493e-01],\n",
      "          [ 1.6861e+00,  1.6850e+00,  1.8823e+00,  ..., -4.9099e-01,\n",
      "           -4.6554e-01, -4.5175e-01]]],\n",
      "\n",
      "\n",
      "        [[[-4.3966e-01, -4.3405e-01, -4.4060e-01,  ..., -4.1534e-01,\n",
      "           -4.1160e-01, -4.2189e-01],\n",
      "          [-4.3592e-01, -4.3218e-01, -4.3312e-01,  ..., -4.1534e-01,\n",
      "           -4.1347e-01, -4.2095e-01],\n",
      "          [-4.3499e-01, -4.3218e-01, -4.3405e-01,  ..., -4.1347e-01,\n",
      "           -4.1254e-01, -4.2002e-01],\n",
      "          ...,\n",
      "          [-4.3966e-01, -4.4060e-01, -4.3312e-01,  ...,  9.6352e-02,\n",
      "            8.3255e-02, -3.2741e-02],\n",
      "          [-4.4153e-01, -4.4247e-01, -4.3218e-01,  ...,  1.0945e-01,\n",
      "            1.5154e-01,  9.7287e-02],\n",
      "          [-4.3966e-01, -4.2937e-01, -4.3031e-01,  ...,  1.3471e-01,\n",
      "            1.8803e-01,  1.9832e-01]],\n",
      "\n",
      "         [[-4.6968e-01, -4.6968e-01, -4.6763e-01,  ..., -4.4913e-01,\n",
      "           -4.4913e-01, -4.4913e-01],\n",
      "          [-4.7482e-01, -4.6968e-01, -4.7482e-01,  ..., -4.4604e-01,\n",
      "           -4.4913e-01, -4.3885e-01],\n",
      "          [-4.7688e-01, -4.7174e-01, -4.6351e-01,  ..., -4.4296e-01,\n",
      "           -4.4913e-01, -4.4296e-01],\n",
      "          ...,\n",
      "          [-4.6043e-01, -4.6043e-01, -4.5632e-01,  ...,  5.2415e-02,\n",
      "            4.6249e-02, -3.2888e-02],\n",
      "          [-4.5838e-01, -4.5838e-01, -4.6146e-01,  ...,  2.9805e-02,\n",
      "            9.4553e-02,  9.3525e-02],\n",
      "          [-4.5940e-01, -4.6660e-01, -4.6351e-01,  ...,  8.8386e-02,\n",
      "            1.5930e-01,  1.5622e-01]],\n",
      "\n",
      "         [[-3.5313e-01, -3.5101e-01, -3.4677e-01,  ..., -3.1177e-01,\n",
      "           -3.1495e-01, -3.2450e-01],\n",
      "          [-3.4252e-01, -3.3404e-01, -3.4146e-01,  ..., -3.2131e-01,\n",
      "           -3.1601e-01, -3.2131e-01],\n",
      "          [-3.5949e-01, -3.5631e-01, -3.4677e-01,  ..., -3.1389e-01,\n",
      "           -3.1495e-01, -3.2662e-01],\n",
      "          ...,\n",
      "          [-3.4464e-01, -3.3934e-01, -3.3828e-01,  ...,  1.4316e-01,\n",
      "            1.8346e-01,  1.1135e-01],\n",
      "          [-3.3510e-01, -3.5313e-01, -3.4358e-01,  ...,  1.7073e-01,\n",
      "            2.1633e-01,  2.4496e-01],\n",
      "          [-3.4677e-01, -3.3298e-01, -3.3934e-01,  ...,  2.2906e-01,\n",
      "            2.6087e-01,  2.7996e-01]]]])\n"
     ]
    }
   ],
   "source": [
    "def get_color_mean_dataset(dl:DataLoader):\n",
    "    \"\"\"\n",
    "    Desc : Return a mean and std for dataset\n",
    "    \"\"\"\n",
    "    c_mus = []; c3_mus = [], c_stds = [] ; c3_stds = []\n",
    "    for X in dl:\n",
    "        # get mean and std of batch\n",
    "        c_mu = X.mean()\n",
    "        c3_mu = X.mean(axis = (0,2,3)) # (3,)\n",
    "        c3_std = X.std(axis = (0,2,3)) # (3,)\n",
    "    return c_mu, c3_mu\n",
    "\n",
    "\n",
    "sentinel_loader = DataLoader(sentinel_dataset, batch_size = 512)\n",
    "for X, path in sentinel_loader:\n",
    "    print(X.min(), X.max())\n",
    "    print(X)\n",
    "    break"
   ]
  },
  {
   "cell_type": "code",
   "execution_count": 73,
   "metadata": {},
   "outputs": [],
   "source": [
    "def plot_image_from_batch(batch):\n",
    "    #rand_idxs = np.random.randint(low = 0, high = 512, size = (6,))\n",
    "    rand_idxs = [0,1,2,3,4,5]\n",
    "    fig = plt.figure(figsize = (12, 9))\n",
    "    pi = 1\n",
    "    for idx in rand_idxs:\n",
    "        img = batch[idx, :, :, :] #(C,W,H)\n",
    "        ax = fig.add_subplot(2,3,pi)\n",
    "        ax.imshow(img.permute(1,2,0), vmin = -0.52, vmax =-0.19)\n",
    "        ax.set_title(f\"min : {img.min():.2f}, max : {img.max():.2f}\")\n",
    "        pi += 1\n",
    "    fig.show()"
   ]
  },
  {
   "cell_type": "code",
   "execution_count": 74,
   "metadata": {},
   "outputs": [
    {
     "name": "stderr",
     "output_type": "stream",
     "text": [
      "Clipping input data to the valid range for imshow with RGB data ([0..1] for floats or [0..255] for integers).\n",
      "Clipping input data to the valid range for imshow with RGB data ([0..1] for floats or [0..255] for integers).\n",
      "Clipping input data to the valid range for imshow with RGB data ([0..1] for floats or [0..255] for integers).\n",
      "Clipping input data to the valid range for imshow with RGB data ([0..1] for floats or [0..255] for integers).\n",
      "Clipping input data to the valid range for imshow with RGB data ([0..1] for floats or [0..255] for integers).\n",
      "Clipping input data to the valid range for imshow with RGB data ([0..1] for floats or [0..255] for integers).\n"
     ]
    },
    {
     "data": {
      "image/png": "[encoded data removed]",
      "text/plain": [
       "<Figure size 1200x900 with 6 Axes>"
      ]
     },
     "metadata": {},
     "output_type": "display_data"
    }
   ],
   "source": [
    "#batch, paths = next(iter(sentinel_loader))\n",
    "plot_image_from_batch(batch)\n"
   ]
  },
  {
   "cell_type": "code",
   "execution_count": 13,
   "metadata": {},
   "outputs": [
    {
     "data": {
      "text/plain": [
       "array([[197],\n",
       "       [424],\n",
       "       [185],\n",
       "       [ 26],\n",
       "       [251],\n",
       "       [483]])"
      ]
     },
     "execution_count": 13,
     "metadata": {},
     "output_type": "execute_result"
    }
   ],
   "source": [
    "rand_idxs.reshape(-1,1)"
   ]
  },
  {
   "cell_type": "code",
   "execution_count": 14,
   "metadata": {},
   "outputs": [
    {
     "data": {
      "text/plain": [
       "torch.Size([512, 3, 256, 256])"
      ]
     },
     "execution_count": 14,
     "metadata": {},
     "output_type": "execute_result"
    }
   ],
   "source": [
    "batch.shape"
   ]
  },
  {
   "cell_type": "code",
   "execution_count": 2,
   "metadata": {},
   "outputs": [
    {
     "name": "stdout",
     "output_type": "stream",
     "text": [
      "exec\n"
     ]
    }
   ],
   "source": [
    "sf = 2\n",
    "if sf:\n",
    "    print(\"exec\")"
   ]
  },
  {
   "cell_type": "code",
   "execution_count": 4,
   "metadata": {},
   "outputs": [
    {
     "data": {
      "text/plain": [
       "torch.Tensor"
      ]
     },
     "execution_count": 4,
     "metadata": {},
     "output_type": "execute_result"
    }
   ],
   "source": [
    "import torch\n",
    "type(torch.tensor([1,2]))"
   ]
  },
  {
   "cell_type": "code",
   "execution_count": null,
   "metadata": {},
   "outputs": [],
   "source": []
  }
 ],
 "metadata": {
  "kernelspec": {
   "display_name": "remsens",
   "language": "python",
   "name": "python3"
  },
  "language_info": {
   "codemirror_mode": {
    "name": "ipython",
    "version": 3
   },
   "file_extension": ".py",
   "mimetype": "text/x-python",
   "name": "python",
   "nbconvert_exporter": "python",
   "pygments_lexer": "ipython3",
   "version": "3.12.2"
  }
 },
 "nbformat": 4,
 "nbformat_minor": 2
}
